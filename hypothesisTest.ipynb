{
 "metadata": {
  "language_info": {
   "codemirror_mode": {
    "name": "ipython",
    "version": 3
   },
   "file_extension": ".py",
   "mimetype": "text/x-python",
   "name": "python",
   "nbconvert_exporter": "python",
   "pygments_lexer": "ipython3",
   "version": "3.9.7-final"
  },
  "orig_nbformat": 2,
  "kernelspec": {
   "name": "python39564bitminiconda3virtualenvcb58205f1291448494ef8be2edf641bf",
   "display_name": "Python 3.9.5 64-bit ('miniconda3': virtualenv)"
  }
 },
 "nbformat": 4,
 "nbformat_minor": 2,
 "cells": [
  {
   "cell_type": "code",
   "execution_count": 1,
   "metadata": {},
   "outputs": [
    {
     "output_type": "execute_result",
     "data": {
      "text/plain": [
       "<IPython.core.display.HTML object>"
      ],
      "text/html": "<style>    span.str {color:#BA2121; font-style:italic; font-weight:bold;}    span.num {color:#080; font-style:italic; font-weight:bold;}    span.bltn {color:#080; font-weight:bold;}    span.op {color:#AA22FF;}    span.func {color:#00F;}    h3.yt {color:#009900; font-style:italic;}    span.yt {color:#009900; font-style:italic;}</style>"
     },
     "metadata": {},
     "execution_count": 1
    }
   ],
   "source": [
    "# Use of IPython.display and HTML for using css to format text in Markdown based on\n",
    "# www.dataquest.io/blog/advanced-jupyter-notebooks-tutorial\n",
    "from IPython.display import HTML\n",
    "HTML(\n",
    "    \"<style>\\\n",
    "    span.str {color:#BA2121; font-style:italic; font-weight:bold;}\\\n",
    "    span.num {color:#080; font-style:italic; font-weight:bold;}\\\n",
    "    span.bltn {color:#080; font-weight:bold;}\\\n",
    "    span.op {color:#AA22FF;}\\\n",
    "    span.func {color:#00F;}\\\n",
    "    h3.yt {color:#009900; font-style:italic;}\\\n",
    "    span.yt {color:#009900; font-style:italic;}</style>\"\n",
    ")"
   ]
  },
  {
   "cell_type": "markdown",
   "metadata": {},
   "source": []
  },
  {
   "cell_type": "code",
   "execution_count": 2,
   "metadata": {},
   "outputs": [],
   "source": [
    "import numpy as np\n",
    "import pandas as pd\n",
    "import scipy.stats.distributions as dist\n",
    "import seaborn as sns\n",
    "import json"
   ]
  },
  {
   "cell_type": "code",
   "execution_count": 3,
   "metadata": {},
   "outputs": [],
   "source": [
    "from nba_api.stats.endpoints import shotchartdetail\n",
    "\n",
    "response = shotchartdetail.ShotChartDetail(\n",
    "\tcontext_measure_simple='FGA',\n",
    "\tteam_id=0,\n",
    "\tplayer_id=0,\n",
    "\tseason_nullable='2020-21',\n",
    "\tseason_type_all_star='Regular Season'\n",
    ")\n",
    "\n",
    "content = json.loads(response.get_json())"
   ]
  },
  {
   "cell_type": "code",
   "execution_count": 4,
   "metadata": {},
   "outputs": [
    {
     "output_type": "stream",
     "name": "stdout",
     "text": [
      "Index(['GRID_TYPE', 'GAME_ID', 'GAME_EVENT_ID', 'PLAYER_ID', 'PLAYER_NAME',\n       'TEAM_ID', 'TEAM_NAME', 'PERIOD', 'MINUTES_REMAINING',\n       'SECONDS_REMAINING', 'EVENT_TYPE', 'ACTION_TYPE', 'SHOT_TYPE',\n       'SHOT_ZONE_BASIC', 'SHOT_ZONE_AREA', 'SHOT_ZONE_RANGE', 'SHOT_DISTANCE',\n       'LOC_X', 'LOC_Y', 'SHOT_ATTEMPTED_FLAG', 'SHOT_MADE_FLAG', 'GAME_DATE',\n       'HTM', 'VTM'],\n      dtype='object')\n"
     ]
    }
   ],
   "source": [
    "# transform contents into dataframe\n",
    "results = content['resultSets'][0]\n",
    "headers = results['headers']\n",
    "rows = results['rowSet']\n",
    "shots_df = pd.DataFrame(rows)\n",
    "shots_df.columns = headers\n",
    "print(shots_df.columns)"
   ]
  },
  {
   "cell_type": "code",
   "execution_count": 5,
   "metadata": {},
   "outputs": [],
   "source": [
    "response = shotchartdetail.ShotChartDetail(\n",
    "\tcontext_measure_simple='FGA',\n",
    "\tteam_id=0,\n",
    "\tplayer_id=0,\n",
    "\tseason_nullable='2010-11',\n",
    "\tseason_type_all_star='Regular Season'\n",
    ")\n",
    "\n",
    "content = json.loads(response.get_json())"
   ]
  },
  {
   "cell_type": "code",
   "execution_count": 6,
   "metadata": {},
   "outputs": [
    {
     "output_type": "stream",
     "name": "stdout",
     "text": [
      "Index(['GRID_TYPE', 'GAME_ID', 'GAME_EVENT_ID', 'PLAYER_ID', 'PLAYER_NAME',\n       'TEAM_ID', 'TEAM_NAME', 'PERIOD', 'MINUTES_REMAINING',\n       'SECONDS_REMAINING', 'EVENT_TYPE', 'ACTION_TYPE', 'SHOT_TYPE',\n       'SHOT_ZONE_BASIC', 'SHOT_ZONE_AREA', 'SHOT_ZONE_RANGE', 'SHOT_DISTANCE',\n       'LOC_X', 'LOC_Y', 'SHOT_ATTEMPTED_FLAG', 'SHOT_MADE_FLAG', 'GAME_DATE',\n       'HTM', 'VTM'],\n      dtype='object')\n"
     ]
    }
   ],
   "source": [
    "# transform contents into dataframe\n",
    "results = content['resultSets'][0]\n",
    "headers = results['headers']\n",
    "rows = results['rowSet']\n",
    "shots_df_10 = pd.DataFrame(rows)\n",
    "shots_df_10.columns = headers\n",
    "print(shots_df_10.columns)"
   ]
  },
  {
   "cell_type": "code",
   "execution_count": 7,
   "metadata": {},
   "outputs": [],
   "source": [
    "def points_per_shot(df):\n",
    "    pps = []\n",
    "    for i in range(0, len(df['SHOT_TYPE'])):\n",
    "        if df.loc[i, 'SHOT_TYPE'] == '2PT Field Goal':\n",
    "            if df.loc[i, 'SHOT_MADE_FLAG'] == 1:\n",
    "                pps.append(2)\n",
    "            else:\n",
    "                pps.append(0) \n",
    "        else:\n",
    "            if df.loc[i, 'SHOT_MADE_FLAG'] == 1:\n",
    "                pps.append(3)\n",
    "            else:\n",
    "                pps.append(0) \n",
    "\n",
    "    df['points_per_shot'] = pps\n",
    "\n",
    "points_per_shot(shots_df)\n",
    "points_per_shot(shots_df_10)"
   ]
  },
  {
   "cell_type": "markdown",
   "metadata": {},
   "source": []
  },
  {
   "cell_type": "code",
   "execution_count": 8,
   "metadata": {},
   "outputs": [],
   "source": [
    "# drop NA values\n",
    "#shots_df.dropna()\n",
    "#shots_df_10.dropna()"
   ]
  },
  {
   "cell_type": "code",
   "execution_count": 9,
   "metadata": {},
   "outputs": [],
   "source": [
    "def three_point_rate(df):\n",
    "    three_point = 0\n",
    "    for i in range(0, len(df['SHOT_TYPE'])):\n",
    "        if df.loc[i, 'SHOT_TYPE'] == '3PT Field Goal':\n",
    "            three_point += 1\n",
    "    return three_point / len(df['SHOT_TYPE'])\n",
    "\n"
   ]
  },
  {
   "cell_type": "code",
   "execution_count": 10,
   "metadata": {},
   "outputs": [
    {
     "output_type": "stream",
     "name": "stdout",
     "text": [
      "0.39177308975144387\n",
      "0.22168491347159855\n"
     ]
    }
   ],
   "source": [
    "print(three_point_rate(shots_df))\n",
    "print(three_point_rate(shots_df_10))"
   ]
  },
  {
   "cell_type": "code",
   "execution_count": 11,
   "metadata": {},
   "outputs": [],
   "source": [
    "shots_df['year'] = '2020_21'\n",
    "shots_df_10['year'] = '2010_11'"
   ]
  },
  {
   "cell_type": "code",
   "execution_count": 12,
   "metadata": {},
   "outputs": [
    {
     "output_type": "execute_result",
     "data": {
      "text/plain": [
       "                GRID_TYPE     GAME_ID  GAME_EVENT_ID  PLAYER_ID  \\\n",
       "0       Shot Chart Detail  0022000001             12     202681   \n",
       "1       Shot Chart Detail  0022000001             13    1630164   \n",
       "2       Shot Chart Detail  0022000001             16     201142   \n",
       "3       Shot Chart Detail  0022000001             18     203952   \n",
       "4       Shot Chart Detail  0022000001             20     201142   \n",
       "...                   ...         ...            ...        ...   \n",
       "199756  Shot Chart Detail  0021001230            544     201590   \n",
       "199757  Shot Chart Detail  0021001230            546     200769   \n",
       "199758  Shot Chart Detail  0021001230            547       2757   \n",
       "199759  Shot Chart Detail  0021001230            554     201936   \n",
       "199760  Shot Chart Detail  0021001230            565     201574   \n",
       "\n",
       "           PLAYER_NAME     TEAM_ID              TEAM_NAME  PERIOD  \\\n",
       "0         Kyrie Irving  1610612751          Brooklyn Nets       1   \n",
       "1        James Wiseman  1610612744  Golden State Warriors       1   \n",
       "2         Kevin Durant  1610612751          Brooklyn Nets       1   \n",
       "3       Andrew Wiggins  1610612744  Golden State Warriors       1   \n",
       "4         Kevin Durant  1610612751          Brooklyn Nets       1   \n",
       "...                ...         ...                    ...     ...   \n",
       "199756    Donte Greene  1610612758       Sacramento Kings       5   \n",
       "199757   Shannon Brown  1610612747     Los Angeles Lakers       5   \n",
       "199758      Beno Udrih  1610612758       Sacramento Kings       5   \n",
       "199759    Tyreke Evans  1610612758       Sacramento Kings       5   \n",
       "199760  Jason Thompson  1610612758       Sacramento Kings       5   \n",
       "\n",
       "        MINUTES_REMAINING  SECONDS_REMAINING  ... SHOT_DISTANCE LOC_X LOC_Y  \\\n",
       "0                      11                 22  ...            22    -2   220   \n",
       "1                      11                 11  ...             0     9    -2   \n",
       "2                      10                 49  ...            25   -20   258   \n",
       "3                      10                 31  ...            23   235    46   \n",
       "4                      10                 23  ...             4    48    13   \n",
       "...                   ...                ...  ...           ...   ...   ...   \n",
       "199756                  0                 43  ...            23   231    19   \n",
       "199757                  0                 35  ...             2    29     1   \n",
       "199758                  0                 29  ...            25   193   159   \n",
       "199759                  0                 15  ...             1    -7    12   \n",
       "199760                  0                 10  ...            26  -172   200   \n",
       "\n",
       "       SHOT_ATTEMPTED_FLAG SHOT_MADE_FLAG GAME_DATE  HTM  VTM  \\\n",
       "0                        1              1  20201222  BKN  GSW   \n",
       "1                        1              1  20201222  BKN  GSW   \n",
       "2                        1              1  20201222  BKN  GSW   \n",
       "3                        1              0  20201222  BKN  GSW   \n",
       "4                        1              1  20201222  BKN  GSW   \n",
       "...                    ...            ...       ...  ...  ...   \n",
       "199756                   1              0  20110413  SAC  LAL   \n",
       "199757                   1              1  20110413  SAC  LAL   \n",
       "199758                   1              1  20110413  SAC  LAL   \n",
       "199759                   1              1  20110413  SAC  LAL   \n",
       "199760                   1              0  20110413  SAC  LAL   \n",
       "\n",
       "        points_per_shot     year  \n",
       "0                     2  2020_21  \n",
       "1                     2  2020_21  \n",
       "2                     3  2020_21  \n",
       "3                     0  2020_21  \n",
       "4                     2  2020_21  \n",
       "...                 ...      ...  \n",
       "199756                0  2010_11  \n",
       "199757                2  2010_11  \n",
       "199758                3  2010_11  \n",
       "199759                2  2010_11  \n",
       "199760                0  2010_11  \n",
       "\n",
       "[390744 rows x 26 columns]"
      ],
      "text/html": "<div>\n<style scoped>\n    .dataframe tbody tr th:only-of-type {\n        vertical-align: middle;\n    }\n\n    .dataframe tbody tr th {\n        vertical-align: top;\n    }\n\n    .dataframe thead th {\n        text-align: right;\n    }\n</style>\n<table border=\"1\" class=\"dataframe\">\n  <thead>\n    <tr style=\"text-align: right;\">\n      <th></th>\n      <th>GRID_TYPE</th>\n      <th>GAME_ID</th>\n      <th>GAME_EVENT_ID</th>\n      <th>PLAYER_ID</th>\n      <th>PLAYER_NAME</th>\n      <th>TEAM_ID</th>\n      <th>TEAM_NAME</th>\n      <th>PERIOD</th>\n      <th>MINUTES_REMAINING</th>\n      <th>SECONDS_REMAINING</th>\n      <th>...</th>\n      <th>SHOT_DISTANCE</th>\n      <th>LOC_X</th>\n      <th>LOC_Y</th>\n      <th>SHOT_ATTEMPTED_FLAG</th>\n      <th>SHOT_MADE_FLAG</th>\n      <th>GAME_DATE</th>\n      <th>HTM</th>\n      <th>VTM</th>\n      <th>points_per_shot</th>\n      <th>year</th>\n    </tr>\n  </thead>\n  <tbody>\n    <tr>\n      <th>0</th>\n      <td>Shot Chart Detail</td>\n      <td>0022000001</td>\n      <td>12</td>\n      <td>202681</td>\n      <td>Kyrie Irving</td>\n      <td>1610612751</td>\n      <td>Brooklyn Nets</td>\n      <td>1</td>\n      <td>11</td>\n      <td>22</td>\n      <td>...</td>\n      <td>22</td>\n      <td>-2</td>\n      <td>220</td>\n      <td>1</td>\n      <td>1</td>\n      <td>20201222</td>\n      <td>BKN</td>\n      <td>GSW</td>\n      <td>2</td>\n      <td>2020_21</td>\n    </tr>\n    <tr>\n      <th>1</th>\n      <td>Shot Chart Detail</td>\n      <td>0022000001</td>\n      <td>13</td>\n      <td>1630164</td>\n      <td>James Wiseman</td>\n      <td>1610612744</td>\n      <td>Golden State Warriors</td>\n      <td>1</td>\n      <td>11</td>\n      <td>11</td>\n      <td>...</td>\n      <td>0</td>\n      <td>9</td>\n      <td>-2</td>\n      <td>1</td>\n      <td>1</td>\n      <td>20201222</td>\n      <td>BKN</td>\n      <td>GSW</td>\n      <td>2</td>\n      <td>2020_21</td>\n    </tr>\n    <tr>\n      <th>2</th>\n      <td>Shot Chart Detail</td>\n      <td>0022000001</td>\n      <td>16</td>\n      <td>201142</td>\n      <td>Kevin Durant</td>\n      <td>1610612751</td>\n      <td>Brooklyn Nets</td>\n      <td>1</td>\n      <td>10</td>\n      <td>49</td>\n      <td>...</td>\n      <td>25</td>\n      <td>-20</td>\n      <td>258</td>\n      <td>1</td>\n      <td>1</td>\n      <td>20201222</td>\n      <td>BKN</td>\n      <td>GSW</td>\n      <td>3</td>\n      <td>2020_21</td>\n    </tr>\n    <tr>\n      <th>3</th>\n      <td>Shot Chart Detail</td>\n      <td>0022000001</td>\n      <td>18</td>\n      <td>203952</td>\n      <td>Andrew Wiggins</td>\n      <td>1610612744</td>\n      <td>Golden State Warriors</td>\n      <td>1</td>\n      <td>10</td>\n      <td>31</td>\n      <td>...</td>\n      <td>23</td>\n      <td>235</td>\n      <td>46</td>\n      <td>1</td>\n      <td>0</td>\n      <td>20201222</td>\n      <td>BKN</td>\n      <td>GSW</td>\n      <td>0</td>\n      <td>2020_21</td>\n    </tr>\n    <tr>\n      <th>4</th>\n      <td>Shot Chart Detail</td>\n      <td>0022000001</td>\n      <td>20</td>\n      <td>201142</td>\n      <td>Kevin Durant</td>\n      <td>1610612751</td>\n      <td>Brooklyn Nets</td>\n      <td>1</td>\n      <td>10</td>\n      <td>23</td>\n      <td>...</td>\n      <td>4</td>\n      <td>48</td>\n      <td>13</td>\n      <td>1</td>\n      <td>1</td>\n      <td>20201222</td>\n      <td>BKN</td>\n      <td>GSW</td>\n      <td>2</td>\n      <td>2020_21</td>\n    </tr>\n    <tr>\n      <th>...</th>\n      <td>...</td>\n      <td>...</td>\n      <td>...</td>\n      <td>...</td>\n      <td>...</td>\n      <td>...</td>\n      <td>...</td>\n      <td>...</td>\n      <td>...</td>\n      <td>...</td>\n      <td>...</td>\n      <td>...</td>\n      <td>...</td>\n      <td>...</td>\n      <td>...</td>\n      <td>...</td>\n      <td>...</td>\n      <td>...</td>\n      <td>...</td>\n      <td>...</td>\n      <td>...</td>\n    </tr>\n    <tr>\n      <th>199756</th>\n      <td>Shot Chart Detail</td>\n      <td>0021001230</td>\n      <td>544</td>\n      <td>201590</td>\n      <td>Donte Greene</td>\n      <td>1610612758</td>\n      <td>Sacramento Kings</td>\n      <td>5</td>\n      <td>0</td>\n      <td>43</td>\n      <td>...</td>\n      <td>23</td>\n      <td>231</td>\n      <td>19</td>\n      <td>1</td>\n      <td>0</td>\n      <td>20110413</td>\n      <td>SAC</td>\n      <td>LAL</td>\n      <td>0</td>\n      <td>2010_11</td>\n    </tr>\n    <tr>\n      <th>199757</th>\n      <td>Shot Chart Detail</td>\n      <td>0021001230</td>\n      <td>546</td>\n      <td>200769</td>\n      <td>Shannon Brown</td>\n      <td>1610612747</td>\n      <td>Los Angeles Lakers</td>\n      <td>5</td>\n      <td>0</td>\n      <td>35</td>\n      <td>...</td>\n      <td>2</td>\n      <td>29</td>\n      <td>1</td>\n      <td>1</td>\n      <td>1</td>\n      <td>20110413</td>\n      <td>SAC</td>\n      <td>LAL</td>\n      <td>2</td>\n      <td>2010_11</td>\n    </tr>\n    <tr>\n      <th>199758</th>\n      <td>Shot Chart Detail</td>\n      <td>0021001230</td>\n      <td>547</td>\n      <td>2757</td>\n      <td>Beno Udrih</td>\n      <td>1610612758</td>\n      <td>Sacramento Kings</td>\n      <td>5</td>\n      <td>0</td>\n      <td>29</td>\n      <td>...</td>\n      <td>25</td>\n      <td>193</td>\n      <td>159</td>\n      <td>1</td>\n      <td>1</td>\n      <td>20110413</td>\n      <td>SAC</td>\n      <td>LAL</td>\n      <td>3</td>\n      <td>2010_11</td>\n    </tr>\n    <tr>\n      <th>199759</th>\n      <td>Shot Chart Detail</td>\n      <td>0021001230</td>\n      <td>554</td>\n      <td>201936</td>\n      <td>Tyreke Evans</td>\n      <td>1610612758</td>\n      <td>Sacramento Kings</td>\n      <td>5</td>\n      <td>0</td>\n      <td>15</td>\n      <td>...</td>\n      <td>1</td>\n      <td>-7</td>\n      <td>12</td>\n      <td>1</td>\n      <td>1</td>\n      <td>20110413</td>\n      <td>SAC</td>\n      <td>LAL</td>\n      <td>2</td>\n      <td>2010_11</td>\n    </tr>\n    <tr>\n      <th>199760</th>\n      <td>Shot Chart Detail</td>\n      <td>0021001230</td>\n      <td>565</td>\n      <td>201574</td>\n      <td>Jason Thompson</td>\n      <td>1610612758</td>\n      <td>Sacramento Kings</td>\n      <td>5</td>\n      <td>0</td>\n      <td>10</td>\n      <td>...</td>\n      <td>26</td>\n      <td>-172</td>\n      <td>200</td>\n      <td>1</td>\n      <td>0</td>\n      <td>20110413</td>\n      <td>SAC</td>\n      <td>LAL</td>\n      <td>0</td>\n      <td>2010_11</td>\n    </tr>\n  </tbody>\n</table>\n<p>390744 rows × 26 columns</p>\n</div>"
     },
     "metadata": {},
     "execution_count": 12
    }
   ],
   "source": [
    "shots_df_10_21 = shots_df.append(shots_df_10)\n",
    "shots_df_10_21"
   ]
  },
  {
   "cell_type": "markdown",
   "metadata": {},
   "source": [
    "<h2><b><u>Hypothesis Testing for Project</u></b></h2>\n",
    "\n",
    "<b><u>Null Hypothesis:</u></b>\n",
    "\n",
    "H0 = The proportion of total shots that are 3 pointers are statistically the same in 2010 and 2021\n",
    "\n",
    "\n",
    "\n",
    "<b><u>Alternative Hypothesis:</u></b>\n",
    "\n",
    "H1 = They are statistically different"
   ]
  },
  {
   "cell_type": "code",
   "execution_count": 13,
   "metadata": {},
   "outputs": [
    {
     "output_type": "execute_result",
     "data": {
      "text/plain": [
       "SHOT_TYPE  2PT Field Goal  3PT Field Goal\n",
       "year                                     \n",
       "2010_11            155477           44284\n",
       "2020_21            116161           74822"
      ],
      "text/html": "<div>\n<style scoped>\n    .dataframe tbody tr th:only-of-type {\n        vertical-align: middle;\n    }\n\n    .dataframe tbody tr th {\n        vertical-align: top;\n    }\n\n    .dataframe thead th {\n        text-align: right;\n    }\n</style>\n<table border=\"1\" class=\"dataframe\">\n  <thead>\n    <tr style=\"text-align: right;\">\n      <th>SHOT_TYPE</th>\n      <th>2PT Field Goal</th>\n      <th>3PT Field Goal</th>\n    </tr>\n    <tr>\n      <th>year</th>\n      <th></th>\n      <th></th>\n    </tr>\n  </thead>\n  <tbody>\n    <tr>\n      <th>2010_11</th>\n      <td>155477</td>\n      <td>44284</td>\n    </tr>\n    <tr>\n      <th>2020_21</th>\n      <td>116161</td>\n      <td>74822</td>\n    </tr>\n  </tbody>\n</table>\n</div>"
     },
     "metadata": {},
     "execution_count": 13
    }
   ],
   "source": [
    "# create contingency table\n",
    "contingency_table = pd.crosstab(shots_df_10_21.year,shots_df_10_21.SHOT_TYPE) #Contingency Table\n",
    "contingency_table"
   ]
  },
  {
   "cell_type": "code",
   "execution_count": 14,
   "metadata": {},
   "outputs": [
    {
     "output_type": "execute_result",
     "data": {
      "text/plain": [
       "SHOT_TYPE  2PT Field Goal  3PT Field Goal\n",
       "year                                     \n",
       "2010_11          0.572368        0.371803\n",
       "2020_21          0.427632        0.628197"
      ],
      "text/html": "<div>\n<style scoped>\n    .dataframe tbody tr th:only-of-type {\n        vertical-align: middle;\n    }\n\n    .dataframe tbody tr th {\n        vertical-align: top;\n    }\n\n    .dataframe thead th {\n        text-align: right;\n    }\n</style>\n<table border=\"1\" class=\"dataframe\">\n  <thead>\n    <tr style=\"text-align: right;\">\n      <th>SHOT_TYPE</th>\n      <th>2PT Field Goal</th>\n      <th>3PT Field Goal</th>\n    </tr>\n    <tr>\n      <th>year</th>\n      <th></th>\n      <th></th>\n    </tr>\n  </thead>\n  <tbody>\n    <tr>\n      <th>2010_11</th>\n      <td>0.572368</td>\n      <td>0.371803</td>\n    </tr>\n    <tr>\n      <th>2020_21</th>\n      <td>0.427632</td>\n      <td>0.628197</td>\n    </tr>\n  </tbody>\n</table>\n</div>"
     },
     "metadata": {},
     "execution_count": 14
    }
   ],
   "source": [
    "# convert the above contingency table into proportions\n",
    "pd.crosstab(shots_df_10_21.year,shots_df_10_21.SHOT_TYPE).apply(lambda r:r/r.sum(),axis=0)"
   ]
  },
  {
   "cell_type": "code",
   "execution_count": 15,
   "metadata": {},
   "outputs": [],
   "source": [
    "total_proportion_3pt = (shots_df_10_21.SHOT_TYPE == \"3PT Field Goal\").mean()\n",
    "num_2010 = shots_df_10_21[shots_df_10_21.year==\"2010_11\"].shape[0]\n",
    "num_2021 = shots_df_10_21[shots_df_10_21.year==\"2020_21\"].shape[0]\n",
    "assert num_2010*total_proportion_3pt>10, \"Assumptions not met\"\n",
    "assert num_2021*total_proportion_3pt>10, \"Assumptions not met\"\n",
    "assert num_2010*(1-total_proportion_3pt)>10, \"Assumptions not met\"\n",
    "assert num_2021*(1-total_proportion_3pt)>10, \"Assumptions not met\""
   ]
  },
  {
   "cell_type": "code",
   "execution_count": 16,
   "metadata": {},
   "outputs": [
    {
     "output_type": "execute_result",
     "data": {
      "text/plain": [
       "         proportions_3pt  total_counts\n",
       "year                                  \n",
       "2010_11         0.221685        199761\n",
       "2020_21         0.391773        190983"
      ],
      "text/html": "<div>\n<style scoped>\n    .dataframe tbody tr th:only-of-type {\n        vertical-align: middle;\n    }\n\n    .dataframe tbody tr th {\n        vertical-align: top;\n    }\n\n    .dataframe thead th {\n        text-align: right;\n    }\n</style>\n<table border=\"1\" class=\"dataframe\">\n  <thead>\n    <tr style=\"text-align: right;\">\n      <th></th>\n      <th>proportions_3pt</th>\n      <th>total_counts</th>\n    </tr>\n    <tr>\n      <th>year</th>\n      <th></th>\n      <th></th>\n    </tr>\n  </thead>\n  <tbody>\n    <tr>\n      <th>2010_11</th>\n      <td>0.221685</td>\n      <td>199761</td>\n    </tr>\n    <tr>\n      <th>2020_21</th>\n      <td>0.391773</td>\n      <td>190983</td>\n    </tr>\n  </tbody>\n</table>\n</div>"
     },
     "metadata": {},
     "execution_count": 16
    }
   ],
   "source": [
    "#This table helps us to calculate the SE.\n",
    "prop = shots_df_10_21.groupby(\"year\")[\"SHOT_TYPE\"].agg([lambda z: np.mean(z==\"3PT Field Goal\"), \"size\"])\n",
    "prop.columns = ['proportions_3pt','total_counts']\n",
    "prop.head()"
   ]
  },
  {
   "cell_type": "code",
   "execution_count": 20,
   "metadata": {},
   "outputs": [
    {
     "output_type": "stream",
     "name": "stdout",
     "text": [
      "Sample Standard Error is 0.0014732051071143957\n"
     ]
    }
   ],
   "source": [
    "#Calculating standard error\n",
    " \n",
    "variance = total_proportion_3pt * (1 - total_proportion_3pt)\n",
    "standard_error = np.sqrt(variance * (1 / prop.total_counts['2010_11'] + 1 / prop.total_counts['2020_21']))\n",
    "print(\"Sample Standard Error is\",standard_error)"
   ]
  },
  {
   "cell_type": "code",
   "execution_count": 18,
   "metadata": {},
   "outputs": [
    {
     "output_type": "stream",
     "name": "stdout",
     "text": [
      "The best estimate is -0.17008817627984532\nComputed Test Statistic is -115.45451170271963\n"
     ]
    }
   ],
   "source": [
    "# Calculate the test statistic \n",
    "best_estimate = (prop.proportions_3pt['2010_11'] - prop.proportions_3pt['2020_21'])\n",
    "print(\"The best estimate is\",best_estimate)\n",
    "hypothesized_estimate = 0\n",
    "test_stat = (best_estimate-hypothesized_estimate) / standard_error\n",
    "print(\"Computed Test Statistic is\",test_stat)"
   ]
  },
  {
   "cell_type": "code",
   "execution_count": 19,
   "metadata": {},
   "outputs": [
    {
     "output_type": "stream",
     "name": "stdout",
     "text": [
      "Computed P-value is 0.0\n"
     ]
    }
   ],
   "source": [
    "# Calculate the  p-value\n",
    "pvalue = 2*dist.norm.cdf(-np.abs(test_stat)) # Multiplied by two indicates a two tailed testing.\n",
    "print(\"Computed P-value is\", pvalue)"
   ]
  },
  {
   "cell_type": "markdown",
   "metadata": {},
   "source": [
    "<b><u>Inference:</u></b>\n",
    "\n",
    "We can explicitly state that our p-value is less than the significance level of 0.05. Thus, we can <b><u>reject the null hypothesis.</u></b>"
   ]
  },
  {
   "cell_type": "code",
   "execution_count": null,
   "metadata": {},
   "outputs": [],
   "source": []
  }
 ]
}